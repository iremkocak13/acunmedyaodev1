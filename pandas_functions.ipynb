{
 "cells": [
  {
   "cell_type": "code",
   "execution_count": null,
   "id": "dfdffaee",
   "metadata": {},
   "outputs": [],
   "source": [
    "\n",
    "import pandas as pd\n",
    "\n",
    "# 1. DataFrame Oluşturma\n",
    "data = {'Ad': ['Ahmet', 'Mehmet', 'Ayşe', 'Fatma'],\n",
    "        'Yaş': [25, 30, 22, 35],\n",
    "        'Maaş': [5000, 7000, 4500, 8000]}\n",
    "df = pd.DataFrame(data)\n",
    "print(\"1. DataFrame:\")\n",
    "print(df)\n"
   ]
  },
  {
   "cell_type": "code",
   "execution_count": null,
   "id": "2f63b307",
   "metadata": {},
   "outputs": [],
   "source": [
    "\n",
    "# 2. head() - İlk n satırı gösterme\n",
    "print(\"\\n2. İlk 2 satır:\")\n",
    "print(df.head(2))\n"
   ]
  },
  {
   "cell_type": "code",
   "execution_count": null,
   "id": "6cf5126a",
   "metadata": {},
   "outputs": [],
   "source": [
    "\n",
    "# 3. info() - Veri hakkında genel bilgi\n",
    "print(\"\\n3. DataFrame bilgileri:\")\n",
    "print(df.info())\n"
   ]
  },
  {
   "cell_type": "code",
   "execution_count": null,
   "id": "fcf0d9d4",
   "metadata": {},
   "outputs": [],
   "source": [
    "\n",
    "# 4. describe() - İstatistiksel özet\n",
    "print(\"\\n4. İstatistiksel özet:\")\n",
    "print(df.describe())\n"
   ]
  },
  {
   "cell_type": "code",
   "execution_count": null,
   "id": "315733c9",
   "metadata": {},
   "outputs": [],
   "source": [
    "\n",
    "# 5. loc[] - Belirli satır ve sütun seçme\n",
    "print(\"\\n5. loc[] kullanımı:\")\n",
    "print(df.loc[1, 'Ad'])\n"
   ]
  },
  {
   "cell_type": "code",
   "execution_count": null,
   "id": "b26a759d",
   "metadata": {},
   "outputs": [],
   "source": [
    "\n",
    "# 6. iloc[] - İndeks numarasına göre seçim\n",
    "print(\"\\n6. iloc[] kullanımı:\")\n",
    "print(df.iloc[2, 1])\n"
   ]
  },
  {
   "cell_type": "code",
   "execution_count": null,
   "id": "0f7e3da6",
   "metadata": {},
   "outputs": [],
   "source": [
    "\n",
    "# 7. sort_values() - Sıralama\n",
    "print(\"\\n7. Maaşa göre sıralama:\")\n",
    "print(df.sort_values(by='Maaş', ascending=False))\n"
   ]
  },
  {
   "cell_type": "code",
   "execution_count": null,
   "id": "8c901010",
   "metadata": {},
   "outputs": [],
   "source": [
    "\n",
    "# 8. isnull() - Eksik değerleri kontrol etme\n",
    "print(\"\\n8. Eksik değer kontrolü:\")\n",
    "print(df.isnull().sum())\n"
   ]
  },
  {
   "cell_type": "code",
   "execution_count": null,
   "id": "6be5084c",
   "metadata": {},
   "outputs": [],
   "source": [
    "\n",
    "# 9. drop() - Sütun veya satır silme\n",
    "print(\"\\n9. 'Yaş' sütunu silinmiş DataFrame:\")\n",
    "print(df.drop(columns=['Yaş']))\n"
   ]
  },
  {
   "cell_type": "code",
   "execution_count": null,
   "id": "ba0243ad",
   "metadata": {},
   "outputs": [],
   "source": [
    "\n",
    "# 10. groupby() - Gruplama işlemi\n",
    "print(\"\\n10. Ortalama maaş değeri:\")\n",
    "print(df.groupby('Ad')['Maaş'].mean())\n"
   ]
  }
 ],
 "metadata": {
  "language_info": {
   "name": "python"
  }
 },
 "nbformat": 4,
 "nbformat_minor": 5
}
